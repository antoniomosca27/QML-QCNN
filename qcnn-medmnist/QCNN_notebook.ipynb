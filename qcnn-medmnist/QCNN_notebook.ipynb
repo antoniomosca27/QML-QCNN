{
 "cells": [
  {
   "cell_type": "markdown",
   "id": "5c906a2e-b523-4f6f-8921-e8827938e015",
   "metadata": {},
   "source": [
    "# 1️⃣ Setup & Paths\n",
    "\n",
    "In questa prima cella configuriamo l’ambiente Python:\n",
    "- Importiamo tutte le librerie necessarie al progetto (PyTorch, Qiskit, pandas, matplotlib, seaborn).\n",
    "- Aggiungiamo la radice del progetto al `sys.path` in modo da poter importare il codice `qcnn_medmnist` in modalità editable.\n",
    "- Definiamo i percorsi principali: `DATA_DIR`, `LOGS_DIR` e `REPORTS_DIR`.\n",
    "- Inizializziamo il backend di matplotlib per l’output inline.\n",
    "- Verifichiamo la versione delle librerie principali per riproducibilità.\n",
    "\n",
    "\n"
   ]
  },
  {
   "cell_type": "code",
   "execution_count": null,
   "id": "38a3d4ba-89da-4a6a-828c-694e9bc150b5",
   "metadata": {},
   "outputs": [
    {
     "name": "stdout",
     "output_type": "stream",
     "text": [
      "[seed] Seme globale impostato a 123\n",
      "torch   2.7.0+cpu\n",
      "pandas  2.2.3\n",
      "seaborn 0.13.2\n"
     ]
    }
   ],
   "source": [
    "import sys, os\n",
    "from pathlib import Path\n",
    "\n",
    "# 1) Permette di importare il codice in editable mode\n",
    "PROJECT_ROOT = Path.cwd()\n",
    "if str(PROJECT_ROOT) not in sys.path:\n",
    "    sys.path.insert(0, str(PROJECT_ROOT))\n",
    "\n",
    "# 2) Import librerie\n",
    "import torch\n",
    "import pandas as pd\n",
    "import numpy as np\n",
    "import matplotlib.pyplot as plt\n",
    "import seaborn as sns\n",
    "from tqdm import tqdm\n",
    "from qcnn_medmnist.utils.seed import set_global_seed\n",
    "\n",
    "# 3) Seed di riproducibilità globale\n",
    "SEED = 123\n",
    "set_global_seed(SEED)\n",
    "\n",
    "# 4) Qt o inline for matplotlib\n",
    "%matplotlib inline\n",
    "\n",
    "# 5) Percorsi principali\n",
    "DATA_DIR    = PROJECT_ROOT / \"data\" / \"processed\"\n",
    "LOGS_DIR    = PROJECT_ROOT / \"logs\"\n",
    "REPORTS_DIR = PROJECT_ROOT / \"reports\"\n",
    "\n",
    "# 6) Crea le cartelle se non esistono\n",
    "LOGS_DIR .mkdir(exist_ok=True)\n",
    "REPORTS_DIR .mkdir(exist_ok=True)\n",
    "\n",
    "# 7) Version check\n",
    "print(f\"torch   {torch.__version__}\")\n",
    "print(f\"pandas  {pd.__version__}\")\n",
    "print(f\"seaborn {sns.__version__}\")"
   ]
  },
  {
   "cell_type": "markdown",
   "id": "e4fc4407-aede-421a-b943-4c02962c3ed7",
   "metadata": {},
   "source": [
    "# 2️⃣ Selezione parametri\n",
    "\n",
    "In questa cella possiamo **configurare dinamicamente**:\n",
    "- Il `dataset_name` tra i sottoinsiemi MedMNIST 2D\n",
    "- Le frazioni `subset`, `subset_val`, `subset_test` per FAST-MODE\n",
    "- Lo `stride` per la patchificazione\n",
    "- Il flag `freeze_q` per congelare i parametri quantistici\n",
    "- Numero di `epochs`, `batch_size` e `device`\n",
    "\n",
    "\n"
   ]
  },
  {
   "cell_type": "code",
   "execution_count": null,
   "id": "92a22cdc-a7db-4a2f-a273-f96eae456cef",
   "metadata": {},
   "outputs": [],
   "source": [
    "# Scegliamo il dataset (pathmnist, bloodmnist, dermamnist, chestmnist, etc.)\n",
    "dataset_name = \"bloodmnist\"\n",
    "\n",
    "# FAST-MODE: frazione del dataset per train/val/test\n",
    "subset       = 0.05     # 100%\n",
    "subset_val   = 0.05     # se None = subset\n",
    "subset_test  = 0.05     # se None = subset\n",
    "\n",
    "# Patchify stride\n",
    "stride       = 3       # deve dividere 30 esattamente\n",
    "\n",
    "# Congela θ quantistici?\n",
    "freeze_q     = False\n",
    "\n",
    "# Addestramento\n",
    "batch_size   = 32\n",
    "epochs       = 2\n",
    "device       = \"cpu\"    # oppure \"cuda\""
   ]
  },
  {
   "cell_type": "markdown",
   "id": "d0ff846c-21f6-4807-b0bd-2598f5065f8f",
   "metadata": {},
   "source": [
    "\n",
    "\n",
    "\n",
    "# 3️⃣ Pre-processing\n",
    "\n",
    "In questa cella lanciamo il preprocess:\n",
    "1. Scarica il dataset MedMNIST scelto  \n",
    "2. Riduce da RGB→grayscale tramite la rete `Color2GrayNet`  \n",
    "3. Salva i tensori (30×30 con padding) in `data/processed/<dataset>/{train,val,test}.pt`  \n",
    "\n",
    "Usiamo lo script CLI `qcnn-preprocess` tramite `subprocess`,\n",
    "che produce progress bar e conferma di salvataggio.\n",
    "\n"
   ]
  },
  {
   "cell_type": "code",
   "execution_count": 3,
   "id": "2148e82a-a519-4c11-892b-ab5e776294fe",
   "metadata": {},
   "outputs": [
    {
     "name": "stdout",
     "output_type": "stream",
     "text": [
      "Running: qcnn-preprocess --dataset=bloodmnist --epochs=2 --batch=128\n"
     ]
    },
    {
     "data": {
      "text/plain": [
       "CompletedProcess(args=['qcnn-preprocess', '--dataset=bloodmnist', '--epochs=2', '--batch=128'], returncode=0)"
      ]
     },
     "execution_count": 3,
     "metadata": {},
     "output_type": "execute_result"
    }
   ],
   "source": [
    "import subprocess\n",
    "\n",
    "cmd = [\n",
    "    \"qcnn-preprocess\",\n",
    "    f\"--dataset={dataset_name}\",\n",
    "    \"--epochs=2\",\n",
    "    \"--batch=128\"\n",
    "]\n",
    "print(\"Running:\", \" \".join(cmd))\n",
    "subprocess.run(cmd, check=True)"
   ]
  },
  {
   "cell_type": "markdown",
   "id": "2366937e-75f0-4b82-9c0c-1e15ca7dc892",
   "metadata": {},
   "source": [
    "\n",
    "\n",
    "# 4️⃣ Training\n",
    "\n",
    "Qui costruiamo e lanciamo il training in‐code:\n",
    "- Importiamo la classe `Trainer` dal modulo Python\n",
    "- Calcoliamo automaticamente la `run_id` (001, 002, …)\n",
    "- Istanziamo `Trainer(...)` con tutti i parametri\n",
    "- Lanciamo `fit()` con barra di progresso  \n",
    "- Alla fine lanciamo `test()` e vediamo le metriche finali.\n",
    "\n",
    "\n"
   ]
  },
  {
   "cell_type": "code",
   "execution_count": 4,
   "id": "7ee1d6f9-bc70-4e66-b6a0-57463126b764",
   "metadata": {},
   "outputs": [
    {
     "name": "stdout",
     "output_type": "stream",
     "text": [
      "\u001b[32m15:05:18\u001b[0m | \u001b[33m\u001b[1mWARNING\u001b[0m | FAST-MODE  train subset=0.05  →  508 campioni\n",
      "\u001b[32m15:05:18\u001b[0m | \u001b[33m\u001b[1mWARNING\u001b[0m | FAST-MODE  val subset=0.05  →  89 campioni\n",
      "\u001b[32m15:05:18\u001b[0m | \u001b[33m\u001b[1mWARNING\u001b[0m | FAST-MODE  test subset=0.05  →  171 campioni\n",
      "\u001b[32m15:05:18\u001b[0m | \u001b[1mINFO\u001b[0m | Numero classi rilevate: 8\n",
      "\u001b[32m15:05:20\u001b[0m | \u001b[1mINFO\u001b[0m | ▶️  Inizio training (2 epoche)…\n"
     ]
    },
    {
     "name": "stderr",
     "output_type": "stream",
     "text": [
      "                                                                                                                       "
     ]
    },
    {
     "name": "stdout",
     "output_type": "stream",
     "text": [
      "\u001b[32m15:14:59\u001b[0m | \u001b[1mINFO\u001b[0m | [Ep 1/2] train_loss=2.1382  val_loss=2.0312  val_acc=0.213\n"
     ]
    },
    {
     "name": "stderr",
     "output_type": "stream",
     "text": []
    },
    {
     "name": "stdout",
     "output_type": "stream",
     "text": [
      "\u001b[32m15:14:59\u001b[0m | \u001b[32m\u001b[1mSUCCESS\u001b[0m |   ↳  Nuovo best model salvato  (val_loss 2.0312)\n"
     ]
    },
    {
     "name": "stderr",
     "output_type": "stream",
     "text": [
      "                                                                                                                       "
     ]
    },
    {
     "name": "stdout",
     "output_type": "stream",
     "text": [
      "\u001b[32m15:25:24\u001b[0m | \u001b[1mINFO\u001b[0m | [Ep 2/2] train_loss=2.0001  val_loss=1.9257  val_acc=0.292\n",
      "\u001b[32m15:25:24\u001b[0m | \u001b[32m\u001b[1mSUCCESS\u001b[0m |   ↳  Nuovo best model salvato  (val_loss 1.9257)\n"
     ]
    },
    {
     "name": "stderr",
     "output_type": "stream",
     "text": []
    },
    {
     "name": "stdout",
     "output_type": "stream",
     "text": [
      "\u001b[32m15:25:24\u001b[0m | \u001b[32m\u001b[1mSUCCESS\u001b[0m | ✅ Training completato!\n"
     ]
    },
    {
     "name": "stderr",
     "output_type": "stream",
     "text": [
      "                                                                                                                       "
     ]
    },
    {
     "name": "stdout",
     "output_type": "stream",
     "text": [
      "Test metrics: {'acc': 0.22807017543859648, 'bal_acc': np.float64(0.14186401810759963), 'f1': 0.10691593352883674, 'auc_micro': nan, 'auc_macro': nan, 'loss': 1.98112162023957}\n",
      "\u001b[32m15:28:25\u001b[0m | \u001b[1mINFO\u001b[0m | ��  Test  acc=0.228  f1=0.107\n"
     ]
    },
    {
     "name": "stderr",
     "output_type": "stream",
     "text": []
    }
   ],
   "source": [
    "from qcnn_medmnist.scripts.train import _next_run_id\n",
    "from qcnn_medmnist.training.trainer import Trainer\n",
    "\n",
    "# 1) Determina la cartella di run\n",
    "run_id = _next_run_id(dataset_name)\n",
    "out_dir = LOGS_DIR / f\"{dataset_name}_run_{run_id:03d}\"\n",
    "\n",
    "# 2) Istanzia e addestra\n",
    "trainer = Trainer(\n",
    "    dataset_name= dataset_name,\n",
    "    out_dir      = out_dir,\n",
    "    batch_size   = batch_size,\n",
    "    lr           = 1e-3,\n",
    "    epochs       = epochs,\n",
    "    device       = device,\n",
    "    subset       = subset,\n",
    "    subset_val   = subset_val,\n",
    "    subset_test  = subset_test,\n",
    "    stride       = stride,\n",
    "    freeze_q     = freeze_q,\n",
    ")\n",
    "trainer.fit()\n",
    "\n",
    "# 3) Test finale e metriche\n",
    "test_metrics = trainer.test()\n",
    "print(\"Test metrics:\", test_metrics)"
   ]
  },
  {
   "cell_type": "markdown",
   "id": "f593e4bd-ab28-40cc-a2be-283a31371913",
   "metadata": {},
   "source": [
    "# 5️⃣ Report & Plot\n",
    "\n",
    "Ora generiamo:\n",
    "1. CSV delle predizioni (`reports/<run>/tables/preds.csv`)\n",
    "2. Confusion‐matrix inline e salva PNG\n",
    "3. Curve di learning inline e salva PNG\n",
    "\n"
   ]
  },
  {
   "cell_type": "code",
   "execution_count": null,
   "id": "65f7656d-bb47-4a3b-a8eb-33ad592edb0c",
   "metadata": {},
   "outputs": [],
   "source": [
    "import matplotlib.pyplot as plt\n",
    "from qcnn_medmnist.scripts.report import generate_report\n",
    "from qcnn_medmnist.scripts.plot_curves import generate_learning_curves\n",
    "\n",
    "# A) Chiama la funzione di report (salva preds.csv + cm + meta)\n",
    "\n",
    "run_dir = LOGS_DIR / f\"{dataset_name}_run_{run_id:03d}\"\n",
    "generate_report(dataset_name, run_dir, stride)\n",
    "\n",
    "# B) Learning curves (salva i PNG)\n",
    "\n",
    "generate_learning_curves(run_dir)\n",
    "\n",
    "# C) Ora mostriamo **tutte** le immagini salvate in reports/.../figures\n",
    "\n",
    "figs_dir = REPORTS_DIR / run_dir.name / \"figures\"\n",
    "for img_path in sorted(figs_dir.glob(\"*.png\")):\n",
    "    img = plt.imread(img_path)\n",
    "    plt.figure(figsize=(5,5))\n",
    "    plt.imshow(img, aspect=\"equal\")\n",
    "    plt.axis(\"off\")\n",
    "    plt.title(img_path.name, fontsize=10)\n",
    "    plt.show()"
   ]
  },
  {
   "cell_type": "markdown",
   "id": "e582dc84-9ef7-43af-8ed1-904747830ba2",
   "metadata": {},
   "source": [
    "# 6️⃣ Heat-map interattiva\n",
    "\n",
    "Visualizziamo inline la heat‐map ⟨Z⟩ per una immagine di test:\n",
    "- Scegli `idx` dell’immagine (da 0 a N_test–1)\n",
    "- Calcola patch e attivazioni via `model.qconv`\n",
    "- Traccia una heatmap seaborn in‐line\n",
    "- Salva in `reports/<run>/figures/heatmap_idx<idx>.png`\n"
   ]
  },
  {
   "cell_type": "code",
   "execution_count": null,
   "id": "bb0fbd65-2e25-4533-b5b3-b26273d0938e",
   "metadata": {},
   "outputs": [],
   "source": [
    "from qcnn_medmnist.scripts.heatmap import generate_heatmap\n",
    "\n",
    "# Genera e salva la heat‐map per l’indice selezionato\n",
    "idx = 0\n",
    "generate_heatmap(dataset_name, run_dir, idx=idx, stride=stride)\n",
    "\n",
    "# Carica e mostra inline con plt.imshow()\n",
    "heat_path = REPORTS_DIR / run_dir.name / \"figures\" / f\"heatmap_idx{idx}.png\"\n",
    "img = plt.imread(heat_path)\n",
    "plt.figure(figsize=(5,5))\n",
    "plt.imshow(img, cmap=None)\n",
    "plt.axis(\"off\")\n",
    "plt.title(f\"Heat‐map idx={idx}\", fontsize=12)\n",
    "plt.show()"
   ]
  }
 ],
 "metadata": {
  "kernelspec": {
   "display_name": "Python 3 (ipykernel)",
   "language": "python",
   "name": "python3"
  },
  "language_info": {
   "codemirror_mode": {
    "name": "ipython",
    "version": 3
   },
   "file_extension": ".py",
   "mimetype": "text/x-python",
   "name": "python",
   "nbconvert_exporter": "python",
   "pygments_lexer": "ipython3",
   "version": "3.11.12"
  }
 },
 "nbformat": 4,
 "nbformat_minor": 5
}
